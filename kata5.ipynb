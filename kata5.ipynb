{
 "cells": [
  {
   "cell_type": "markdown",
   "metadata": {},
   "source": [
    "### Exercise 1 kata 5\n",
    "> Crear un programa que pueda calcular la distancia entre dos planetas.\n",
    "Comenzaremos usando dos distancias de planetas: Tierra (149.597.870 km) y Júpiter (778.547.200 km)."
   ]
  },
  {
   "cell_type": "code",
   "execution_count": 8,
   "metadata": {},
   "outputs": [
    {
     "name": "stdout",
     "output_type": "stream",
     "text": [
      "Distancia de Tierra a Jupiter es : 628949330 km\n",
      "Distancia de Tierra a Jupiter es: 390577534 millas\n"
     ]
    }
   ],
   "source": [
    "import math\n",
    "#Creamos las variables\n",
    "Tierra=149597870#km\n",
    "Jupiter=778547200#km\n",
    "#Distancia entre planetas\n",
    "Distanciakm=Jupiter-Tierra\n",
    "DistanciaMillas=Distanciakm*0.621\n",
    "print(f\"Distancia de Tierra a Jupiter es : {math.ceil(Distanciakm)} km\")\n",
    "print(f\"Distancia de Tierra a Jupiter es: {math.ceil(DistanciaMillas)} millas\")"
   ]
  },
  {
   "cell_type": "markdown",
   "metadata": {},
   "source": [
    "### Exercise 2 kata 5\n",
    "> Para crear nuestra aplicación, queremos leer la distancia del sol para dos planetas, y luego mostrar la distancia entre los planetas. Haremos esto usando input para leer los valores, int para convertir a entero y luego abs para convertir el resultado en su valor absoluto."
   ]
  },
  {
   "cell_type": "code",
   "execution_count": 10,
   "metadata": {},
   "outputs": [
    {
     "name": "stdout",
     "output_type": "stream",
     "text": [
      "La distancia entre los planetas ingresados es: 3333333330495801u\n"
     ]
    }
   ],
   "source": [
    "planeta1=int(input(\"Ingrese la distancial sol del primer planeta\"))\n",
    "planeta2=int(input(\"Ingrese la distancia al sol del segundo planeta\"))\n",
    "distanciakm=abs(planeta1-planeta2)\n",
    "distanciaMillas=distanciakm*0.621\n",
    "print(f\"La distancia entre los planetas ingresados es: {distanciakm}km\")\n",
    "print(f\"La distancia entre los planetas ingresados es: {distanciakm}millas\")"
   ]
  },
  {
   "cell_type": "code",
   "execution_count": null,
   "metadata": {},
   "outputs": [],
   "source": []
  }
 ],
 "metadata": {
  "interpreter": {
   "hash": "b89b5cfaba6639976dc87ff2fec6d58faec662063367e2c229c520fe71072417"
  },
  "kernelspec": {
   "display_name": "Python 3.10.0 64-bit",
   "language": "python",
   "name": "python3"
  },
  "language_info": {
   "codemirror_mode": {
    "name": "ipython",
    "version": 3
   },
   "file_extension": ".py",
   "mimetype": "text/x-python",
   "name": "python",
   "nbconvert_exporter": "python",
   "pygments_lexer": "ipython3",
   "version": "3.10.0"
  },
  "orig_nbformat": 4
 },
 "nbformat": 4,
 "nbformat_minor": 2
}
