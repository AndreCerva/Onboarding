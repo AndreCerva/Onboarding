{
 "cells": [
  {
   "cell_type": "markdown",
   "metadata": {},
   "source": [
    "### String Transform\n",
    "> Hay varias operaciones que puedes realizar en las cadenas cuando las manipulamos. En este ejercicio, usarás métodos de cadena para modificar el texto con hechos sobre la Luna y luego extraerás información para crear un breve resumen."
   ]
  },
  {
   "cell_type": "code",
   "execution_count": 36,
   "metadata": {},
   "outputs": [
    {
     "name": "stdout",
     "output_type": "stream",
     "text": [
      " \n",
      "On average, the Moon moves 4cm away from the Earth every year\n",
      "\n",
      " The highest daylight temperature of the Moon is 127 C\n",
      "\n",
      " The highest daylight temperature of the Moon is 127 Celsius\n"
     ]
    }
   ],
   "source": [
    "text = \"\"\"Interesting facts about the Moon. The Moon is Earth's only satellite. There are several interesting facts about the Moon and how it affects life here on Earth. \n",
    "On average, the Moon moves 4cm away from the Earth every year. This yearly drift is not significant enough to cause immediate effects on Earth. The highest daylight temperature of the Moon is 127 C.\"\"\"\n",
    "\n",
    "#Primero, divide el texto en cada oración para trabajar con su contenido:\n",
    "text=text.split('.')\n",
    "\n",
    "#Ahora, define algunas palabras clave para búsqueda que te ayudarán a determinar si una oración contiene un hecho. average, temperature y distance\n",
    "keys=[\"average\", \"temperature\", \"distance\"]\n",
    "#Cree un bucle para imprimir solo datos sobre la Luna que estén relacionados con las palabras clave definidas anteriormente:\n",
    "for i in text:\n",
    "    for j in keys:\n",
    "        if j in i:\n",
    "            print (f\"{i}\\n\")\n",
    "        else:\n",
    "            pass\n",
    "\n",
    "#Finalmente, actualiza el bucle(ciclo) para cambiar C a Celsius:\n",
    "for i in text:\n",
    "    if i.find('C') != -1:\n",
    "        print(i.replace('C',\"Celsius\"))\n",
    "    else:\n",
    "        pass\n"
   ]
  },
  {
   "cell_type": "markdown",
   "metadata": {},
   "source": [
    "### Exercise 2 kata 4\n",
    "Formatenado cadenas"
   ]
  },
  {
   "cell_type": "code",
   "execution_count": 6,
   "metadata": {},
   "outputs": [
    {
     "name": "stdout",
     "output_type": "stream",
     "text": [
      "Gravity about the Earth \n",
      " Planet: Moon \n",
      " Gravity in Earth: 1.6199999999999999m/s^2\n",
      "Gravity about the Marte  \n",
      " Planet: Ganímedes \n",
      " Gravity in Marte : 1.4300000000000002m/s^2\n"
     ]
    }
   ],
   "source": [
    "# Datos con los que vas a trabajar\n",
    "name1 = \"Moon\"\n",
    "gravity1 = 0.00162 # in kms\n",
    "planet1 = \"Earth\"\n",
    "planet2 = 'Marte '\n",
    "gravity2  = 0.00143\n",
    "name2 = 'Ganímedes'\n",
    "\n",
    "def template(planet,name,gravity):\n",
    "    #Titulo\n",
    "    Titulo=f\"Gravity about the {name}\"\n",
    "    #Plantilla\n",
    "    hechos=f\"Planet: {planet} \\n Gravity in {name}: {gravity*1000}m/s^2\"\n",
    "    #Unión\n",
    "    print(f\"{Titulo} \\n {hechos}\")\n",
    "template(name1,planet1,gravity1)\n",
    "template(name2,planet2,gravity2)"
   ]
  },
  {
   "cell_type": "code",
   "execution_count": null,
   "metadata": {},
   "outputs": [],
   "source": []
  }
 ],
 "metadata": {
  "interpreter": {
   "hash": "b89b5cfaba6639976dc87ff2fec6d58faec662063367e2c229c520fe71072417"
  },
  "kernelspec": {
   "display_name": "Python 3.10.0 64-bit",
   "language": "python",
   "name": "python3"
  },
  "language_info": {
   "codemirror_mode": {
    "name": "ipython",
    "version": 3
   },
   "file_extension": ".py",
   "mimetype": "text/x-python",
   "name": "python",
   "nbconvert_exporter": "python",
   "pygments_lexer": "ipython3",
   "version": "3.10.0"
  },
  "orig_nbformat": 4
 },
 "nbformat": 4,
 "nbformat_minor": 2
}
