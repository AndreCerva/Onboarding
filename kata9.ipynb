{
 "cells": [
  {
   "cell_type": "markdown",
   "metadata": {},
   "source": [
    "### Exercise 1 kata 9\n",
    "construirás un informe de combustible que requiere información de varias ubicaciones de combustible en todo el cohete."
   ]
  },
  {
   "cell_type": "code",
   "execution_count": 8,
   "metadata": {},
   "outputs": [
    {
     "name": "stdout",
     "output_type": "stream",
     "text": [
      "Total fuel:53\n",
      "Total fuel:28\n",
      "Total fuel:43\n"
     ]
    }
   ],
   "source": [
    "# Función para leer 3 tanques de combustible y muestre el promedio\n",
    "def inform(tank1,tank2,tank3):\n",
    "    total_fuel=(tank1+tank2+tank3)//3\n",
    "    print(f\"Total fuel:{total_fuel}\")\n",
    "inform(74,65,22)\n",
    "# Función promedio \n",
    "def average(fuels):\n",
    "    prom=sum(fuels)//len(fuels)\n",
    "    print(f\"Total fuel:{prom}\")\n",
    "average([43,32,11])\n",
    "# Actualiza la función\n",
    "def total_inform(tank1,tank2,tank3):\n",
    "    average([tank1,tank2,tank3])\n",
    "total_inform(32,44,55)\n"
   ]
  },
  {
   "cell_type": "markdown",
   "metadata": {},
   "source": [
    "### Exercise 2 kata 9\n",
    "construirás un informe de cohete que requiere varias piezas de información, como el tiempo hasta el destino, el combustible a la izquierda y el nombre del destino"
   ]
  },
  {
   "cell_type": "code",
   "execution_count": 3,
   "metadata": {},
   "outputs": [
    {
     "name": "stdout",
     "output_type": "stream",
     "text": [
      "\n",
      "    Destinity: Mars\n",
      "    Time to arrive: 28\n",
      "    Total fuel: 78 \n"
     ]
    }
   ],
   "source": [
    "# Función con un informe preciso de la misión. Considera hora de prelanzamiento, tiempo de vuelo, destino, tanque externo y tanque interno\n",
    "def inform(prelaunch,flytime,destiny,externtank,interntank):\n",
    "    print(f\"\"\"\n",
    "    Destinity: {destiny}\n",
    "    Time to arrive: {prelaunch+flytime}\n",
    "    Total fuel: {externtank+interntank} \"\"\")\n",
    "inform(14,14,\"Mars\",43,35)"
   ]
  },
  {
   "cell_type": "code",
   "execution_count": 6,
   "metadata": {},
   "outputs": [
    {
     "name": "stdout",
     "output_type": "stream",
     "text": [
      "\n",
      "    Destinity: Mars\n",
      "    Time to arrive: 145\n",
      "    Total fuel: 58 \n"
     ]
    }
   ],
   "source": [
    "# Escribe tu nueva función de reporte considerando lo anterior\n",
    "def inform(destiny,*minutes,**totalfuel):\n",
    "    print(f\"\"\"\n",
    "    Destinity: {destiny}\n",
    "    Time to arrive: {sum(minutes)}\n",
    "    Total fuel: {sum(totalfuel.values())} \"\"\")\n",
    "inform(\"Mars\",12,45,65,23,interntank=24,externtank=34)"
   ]
  },
  {
   "cell_type": "code",
   "execution_count": 19,
   "metadata": {},
   "outputs": [
    {
     "name": "stdout",
     "output_type": "stream",
     "text": [
      "\n",
      "    Destinity: Mars\n",
      "    Time to arrive: 145\n",
      "    Total fuel: 58  \n",
      "interntank has 24\n",
      "externtank has 34\n"
     ]
    }
   ],
   "source": [
    "#Debido a que el combustible que queda en los tanques es específico de cada tanque,\n",
    "#actualiza la función para usar el nombre de cada tanque en el informe:\n",
    "def inform(destiny,*minutes,**totalfuel):\n",
    "    print(f\"\"\"\n",
    "    Destinity: {destiny}\n",
    "    Time to arrive: {sum(minutes)}\n",
    "    Total fuel: {sum(totalfuel.values())}  \"\"\")\n",
    "    for i,j in totalfuel.items():\n",
    "        print(f\"{i} has {j}\")\n",
    "inform(\"Mars\",12,45,65,23,interntank=24,externtank=34)"
   ]
  }
 ],
 "metadata": {
  "interpreter": {
   "hash": "b89b5cfaba6639976dc87ff2fec6d58faec662063367e2c229c520fe71072417"
  },
  "kernelspec": {
   "display_name": "Python 3.10.0 64-bit",
   "language": "python",
   "name": "python3"
  },
  "language_info": {
   "codemirror_mode": {
    "name": "ipython",
    "version": 3
   },
   "file_extension": ".py",
   "mimetype": "text/x-python",
   "name": "python",
   "nbconvert_exporter": "python",
   "pygments_lexer": "ipython3",
   "version": "3.10.0"
  },
  "orig_nbformat": 4
 },
 "nbformat": 4,
 "nbformat_minor": 2
}
