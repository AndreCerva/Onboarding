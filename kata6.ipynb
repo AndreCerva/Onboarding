{
 "cells": [
  {
   "cell_type": "markdown",
   "metadata": {},
   "source": [
    "### Exercise 1 kata 6 \n",
    "Usar listas para almacenar nombres de planeta"
   ]
  },
  {
   "cell_type": "code",
   "execution_count": 7,
   "metadata": {},
   "outputs": [
    {
     "name": "stdout",
     "output_type": "stream",
     "text": [
      "['Mercurio', 'Venus', 'Tierra', 'Marte', 'Júpiter', 'Saturno', 'Urano', 'Neptuno']\n"
     ]
    }
   ],
   "source": [
    "# Creamos la lista planets y la mostramos\n",
    "planetas=[\"Mercurio\", \"Venus\",\"Tierra\", \"Marte\", \"Júpiter\", \"Saturno\", \"Urano\", \"Neptuno\"]\n",
    "print(planetas)"
   ]
  },
  {
   "cell_type": "code",
   "execution_count": 8,
   "metadata": {},
   "outputs": [
    {
     "name": "stdout",
     "output_type": "stream",
     "text": [
      "['Mercurio', 'Venus', 'Tierra', 'Marte', 'Júpiter', 'Saturno', 'Urano', 'Neptuno', 'Pluton']\n",
      "Total de numero de planetas en el sistema solar contando a plutón: 9\n"
     ]
    }
   ],
   "source": [
    "# Agregamos a plutón y mostramos el último elemento\n",
    "planetas.append(\"Pluton\")\n",
    "print(planetas)\n",
    "print(f\"Total de numero de planetas en el sistema solar contando a plutón: {len(planetas)}\")"
   ]
  },
  {
   "cell_type": "markdown",
   "metadata": {},
   "source": [
    "### Exercise 2 kata 6\n",
    "Queremos mostrar planetas más cerca y más lejos del sol de un planeta que el usuario ingresa por teclado."
   ]
  },
  {
   "cell_type": "code",
   "execution_count": 26,
   "metadata": {},
   "outputs": [
    {
     "name": "stdout",
     "output_type": "stream",
     "text": [
      "Los siguientes planetas están más cercanos al sol que Marte son\n",
      "['Mercurio', 'Venus', 'Tierra']\n",
      "Los siguientes planetas están más alejados del sol que Marte\n",
      "['Júpiter', 'Saturno', 'Urano', 'Neptuno']\n"
     ]
    }
   ],
   "source": [
    "# Solicitamos el nombre de un planeta\n",
    "planetas=[\"Mercurio\", \"Venus\",\"Tierra\", \"Marte\", \"Júpiter\", \"Saturno\", \"Urano\", \"Neptuno\"]\n",
    "planeta=input(\"Ingrese el nombre de un planeta\")\n",
    "# Busca el planeta en la lista\n",
    "index=planetas.index(planeta)\n",
    "# Muestra los planetas más cercanos al sol que el introduccido\n",
    "if index==0:\n",
    "    print(f\"{planetas[index]} es el planeta más cercano al sol en el sistema solar\")\n",
    "else:\n",
    "    print(f\"Los siguientes planetas están más cercanos al sol que {planetas[index]} son\")\n",
    "    print(planetas[0:index])\n",
    "# Muestra los planetas más lejanos al sol\n",
    "if index+1==len(planetas):\n",
    "    print(f\"{planetas[index]} es el planeta más alejado al sol en el sistema solar\")\n",
    "else:\n",
    "    print(f\"Los siguientes planetas están más alejados del sol que {planetas[index]}\")\n",
    "    print(planetas[index+1:])"
   ]
  }
 ],
 "metadata": {
  "interpreter": {
   "hash": "b89b5cfaba6639976dc87ff2fec6d58faec662063367e2c229c520fe71072417"
  },
  "kernelspec": {
   "display_name": "Python 3.10.0 64-bit",
   "language": "python",
   "name": "python3"
  },
  "language_info": {
   "codemirror_mode": {
    "name": "ipython",
    "version": 3
   },
   "file_extension": ".py",
   "mimetype": "text/x-python",
   "name": "python",
   "nbconvert_exporter": "python",
   "pygments_lexer": "ipython3",
   "version": "3.10.0"
  },
  "orig_nbformat": 4
 },
 "nbformat": 4,
 "nbformat_minor": 2
}
