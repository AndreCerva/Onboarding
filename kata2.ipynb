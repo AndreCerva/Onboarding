{
 "cells": [
  {
   "cell_type": "markdown",
   "metadata": {},
   "source": [
    "## Creating a virtual enviroment \n",
    "#### python -m venv kata2"
   ]
  },
  {
   "cell_type": "markdown",
   "metadata": {},
   "source": [
    "![venv](images\\venvcreating.jpg)"
   ]
  },
  {
   "cell_type": "markdown",
   "metadata": {},
   "source": [
    "## Activating the kata2 virtual enviroment\n",
    "#### .\\kata2\\Scripts\\activate"
   ]
  },
  {
   "cell_type": "markdown",
   "metadata": {},
   "source": [
    "![venvActive](images/venvactivated.jpg)"
   ]
  },
  {
   "cell_type": "markdown",
   "metadata": {},
   "source": [
    "## Installing libraries to our virtual enviroment\n",
    "#### pip install python-dateutil\n",
    "#### After, pip freeze to see all our libraries installed"
   ]
  },
  {
   "cell_type": "markdown",
   "metadata": {},
   "source": [
    "![freeze](images/pipfreeze.jpg)"
   ]
  },
  {
   "cell_type": "markdown",
   "metadata": {},
   "source": [
    "## Deactivate the venv\n",
    "#### To leave from the venv, only put the instruccion: deactivate"
   ]
  },
  {
   "cell_type": "markdown",
   "metadata": {},
   "source": [
    "![deactivate](images/deactivate.jpg)"
   ]
  }
 ],
 "metadata": {
  "language_info": {
   "name": "python"
  },
  "orig_nbformat": 4
 },
 "nbformat": 4,
 "nbformat_minor": 2
}
