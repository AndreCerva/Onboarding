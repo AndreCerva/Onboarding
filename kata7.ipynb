{
 "cells": [
  {
   "cell_type": "markdown",
   "metadata": {},
   "source": [
    "### Exercise 1 kata7\n",
    " >creando una aplicación que solicita a un usuario que ingrese una lista de planetas."
   ]
  },
  {
   "cell_type": "code",
   "execution_count": 4,
   "metadata": {},
   "outputs": [
    {
     "name": "stdout",
     "output_type": "stream",
     "text": [
      "Venus\n",
      "Marte\n",
      "Tierra\n",
      "Jupiter\n",
      "Neptuno\n"
     ]
    }
   ],
   "source": [
    "planets=[]\n",
    "while True:\n",
    "    new_planet=input(\"Introduzca un planeta\")\n",
    "    if new_planet.lower() == \"done\":\n",
    "        break\n",
    "    else:\n",
    "        planets.append(new_planet.title())\n",
    "#print(planets)\n",
    "for planet in planets:\n",
    "    print(planet)"
   ]
  }
 ],
 "metadata": {
  "interpreter": {
   "hash": "b89b5cfaba6639976dc87ff2fec6d58faec662063367e2c229c520fe71072417"
  },
  "kernelspec": {
   "display_name": "Python 3.10.0 64-bit",
   "language": "python",
   "name": "python3"
  },
  "language_info": {
   "codemirror_mode": {
    "name": "ipython",
    "version": 3
   },
   "file_extension": ".py",
   "mimetype": "text/x-python",
   "name": "python",
   "nbconvert_exporter": "python",
   "pygments_lexer": "ipython3",
   "version": "3.10.0"
  },
  "orig_nbformat": 4
 },
 "nbformat": 4,
 "nbformat_minor": 2
}
