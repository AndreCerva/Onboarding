{
 "cells": [
  {
   "cell_type": "markdown",
   "metadata": {},
   "source": [
    "### Exercise 1 kata8\n",
    "Crearás un diccionario que almacene información sobre el planeta Marte."
   ]
  },
  {
   "cell_type": "code",
   "execution_count": 11,
   "metadata": {},
   "outputs": [
    {
     "name": "stdout",
     "output_type": "stream",
     "text": [
      "Mars has 2 mons\n",
      "Mars has a polar circunference of 6752km\n"
     ]
    }
   ],
   "source": [
    "# Crea un diccionario llamado planet con los datos propuestos\n",
    "planet={\"name\":\"Mars\",\"moons\":\"2\"}\n",
    "# Muestra el nombre del planeta y el número de lunas que tiene.\n",
    "print(f\"{planet['name']} has {planet['moons']} mons\")\n",
    "planet[\"circunferencia(km)\"]={\"polar\":6752,\"equatorial\":6792}\n",
    "# Imprime el nombre del planeta con su circunferencia polar.\n",
    "print(f\"{planet['name']} has a polar circunference of {planet['circunferencia(km)']['polar']}km\")"
   ]
  },
  {
   "cell_type": "markdown",
   "metadata": {},
   "source": [
    "### Exercise 2 kata8\n",
    "En este escenario, calcularás tanto el número total de lunas en el sistema solar como el número promedio de lunas que tiene un planeta."
   ]
  },
  {
   "cell_type": "code",
   "execution_count": 12,
   "metadata": {},
   "outputs": [
    {
     "name": "stdout",
     "output_type": "stream",
     "text": [
      "El promedio de lunas es: 17\n"
     ]
    }
   ],
   "source": [
    "# Planets and moons\n",
    "\n",
    "planet_moons = {\n",
    "    'mercury': 0,\n",
    "    'venus': 0,\n",
    "    'earth': 1,\n",
    "    'mars': 2,\n",
    "    'jupiter': 79,\n",
    "    'saturn': 82,\n",
    "    'uranus': 27,\n",
    "    'neptune': 14,\n",
    "    'pluto': 5,\n",
    "    'haumea': 2,\n",
    "    'makemake': 1,\n",
    "    'eris': 1\n",
    "}\n",
    "# Añade el código para determinar el número de lunas.\n",
    "total_moons=sum(planet_moons.values())\n",
    "total_planets=len(planet_moons.keys())\n",
    "average=total_moons//total_planets\n",
    "print(f\"El promedio de lunas es: {average}\")"
   ]
  }
 ],
 "metadata": {
  "interpreter": {
   "hash": "b89b5cfaba6639976dc87ff2fec6d58faec662063367e2c229c520fe71072417"
  },
  "kernelspec": {
   "display_name": "Python 3.10.0 64-bit",
   "language": "python",
   "name": "python3"
  },
  "language_info": {
   "codemirror_mode": {
    "name": "ipython",
    "version": 3
   },
   "file_extension": ".py",
   "mimetype": "text/x-python",
   "name": "python",
   "nbconvert_exporter": "python",
   "pygments_lexer": "ipython3",
   "version": "3.10.0"
  },
  "orig_nbformat": 4
 },
 "nbformat": 4,
 "nbformat_minor": 2
}
