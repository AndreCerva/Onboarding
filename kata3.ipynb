{
 "cells": [
  {
   "cell_type": "markdown",
   "metadata": {},
   "source": [
    "### Exercise 1 of kata 3\n",
    "> Para este ejercicio, escribirás una lógica condicional que imprima una advertencia si un asteroide se acerca a la Tierra demasiado rápido. La velocidad del asteroide varía dependiendo de lo cerca que esté del sol, y cualquier velocidad superior a 25 kilómetros por segundo (km/s) merece una advertencia.\n",
    "\n",
    "> Un asteroide se acerca, y viaja a una velocidad de 49 km/s."
   ]
  },
  {
   "cell_type": "code",
   "execution_count": 2,
   "metadata": {},
   "outputs": [
    {
     "name": "stdout",
     "output_type": "stream",
     "text": [
      "¡Atención! un asteroide se acerca a la tierra a una velocidad de: 49km/s \n",
      "\n"
     ]
    }
   ],
   "source": [
    "velasteroide=49#km/s\n",
    "if velasteroide > 25:\n",
    "    print(f\"¡Atención! un asteroide se acerca a la tierra a una velocidad de: {velasteroide}km/s \\n\")\n",
    "else:\n",
    "    print(\"Todo bien, por ahora \\n\")"
   ]
  },
  {
   "cell_type": "markdown",
   "metadata": {},
   "source": [
    "### Exercise 2 of kata 3\n",
    "> Si un asteroide entra en la atmósfera de la Tierra a una velocidad mayor o igual a 20 km/s, a veces produce un rayo de luz que se puede ver desde la Tierra. Escribe la lógica condicional que usa declaraciones if, else, y elif para alertar a las personas de todo el mundo que deben buscar un asteroide en el cielo. ¡Hay uno que se dirige a la tierra ahora a una velocidad de 19 km/s!"
   ]
  },
  {
   "cell_type": "code",
   "execution_count": 4,
   "metadata": {},
   "outputs": [
    {
     "name": "stdout",
     "output_type": "stream",
     "text": [
      "Posiblemente se observe una luz en el cielo debido a un asteroide con una velocidad de: 23km/s \n",
      "\n"
     ]
    }
   ],
   "source": [
    "velasteroide=23#km/s\n",
    "if velasteroide>=20:\n",
    "    print(f\"Posiblemente se observe una luz en el cielo debido a un asteroide con una velocidad de: {velasteroide}km/s \\n\")\n",
    "else:\n",
    "    print(\"Todo bien, por ahora\\n\")"
   ]
  },
  {
   "cell_type": "markdown",
   "metadata": {},
   "source": [
    "### Exercise 3 kata 3\n",
    "> Los asteroides de **menos de 25 metros en su dimensión más grande**  probablemente **se quemarán** a medida que entren en la atmósfera de la Tierra.\n",
    "\n",
    "> Si una pieza de un asteroide que es **más grande que 25 metros** pero **más pequeña que 1000 metros** golpeara la Tierra, causaría **mucho daño**.\n",
    "También discutimos en el ejercicio anterior que:\n",
    "\n",
    "> La velocidad del asteroide varía en función de lo cerca que esté del sol, y cualquier **velocidad superior a 25 kilómetros por segundo (km/s) merece una advertencia**.\n",
    "Si un asteroide entra en la atmósfera de la Tierra a una **velocidad mayor o igual a 20 km/s**, a veces **produce un rayo de luz** que se puede ver desde la Tierra.\n",
    "Usando toda esta información, escribe un programa que emita la advertencia o información correcta a la gente de la Tierra, según la velocidad y el tamaño de un asteroide. Utiliza instrucciones if, else, y elif, así como los operadores and y or"
   ]
  },
  {
   "cell_type": "code",
   "execution_count": 13,
   "metadata": {},
   "outputs": [
    {
     "name": "stdout",
     "output_type": "stream",
     "text": [
      "Un asteroide muy peligroso se acerca a la tierra! velocidad de: 35km/s y tamaño de: 49m \n",
      "\n"
     ]
    }
   ],
   "source": [
    "velocidad=35#km/s\n",
    "tamano=49#m\n",
    "if velocidad>25 or tamano>25 and tamano<1000:\n",
    "    print(f\"¡Un asteroide muy peligroso se acerca a la tierra! velocidad de: {velocidad}km/s y tamaño de: {tamano}m \\n\")\n",
    "elif velocidad>=20 and velocidad<=25 and tamano<=25:\n",
    "    print(f\"Una luz se puede observar en lo alto debido a un asteroirde de {velocidad}km/s \\n\")    \n",
    "elif tamano>=1000:\n",
    "    print(f\"Es el fin... Un asteroide de {tamano}m se acerca a la tierra\")\n",
    "else:\n",
    "    print(\"Todo tranquilo, por ahora.\\n\")\n"
   ]
  }
 ],
 "metadata": {
  "interpreter": {
   "hash": "b89b5cfaba6639976dc87ff2fec6d58faec662063367e2c229c520fe71072417"
  },
  "kernelspec": {
   "display_name": "Python 3.10.0 64-bit",
   "language": "python",
   "name": "python3"
  },
  "language_info": {
   "codemirror_mode": {
    "name": "ipython",
    "version": 3
   },
   "file_extension": ".py",
   "mimetype": "text/x-python",
   "name": "python",
   "nbconvert_exporter": "python",
   "pygments_lexer": "ipython3",
   "version": "3.10.0"
  },
  "orig_nbformat": 4
 },
 "nbformat": 4,
 "nbformat_minor": 2
}
